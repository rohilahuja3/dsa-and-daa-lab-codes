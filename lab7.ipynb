{
  "nbformat": 4,
  "nbformat_minor": 0,
  "metadata": {
    "colab": {
      "name": "lab7.ipynb",
      "provenance": [],
      "authorship_tag": "ABX9TyPKnCFaRecKNNLUmFF4dxcS",
      "include_colab_link": true
    },
    "kernelspec": {
      "name": "python3",
      "display_name": "Python 3"
    },
    "language_info": {
      "name": "python"
    }
  },
  "cells": [
    {
      "cell_type": "markdown",
      "metadata": {
        "id": "view-in-github",
        "colab_type": "text"
      },
      "source": [
        "<a href=\"https://colab.research.google.com/github/rohilahuja3/dsa-and-daa-lab-codes/blob/master/lab7.ipynb\" target=\"_parent\"><img src=\"https://colab.research.google.com/assets/colab-badge.svg\" alt=\"Open In Colab\"/></a>"
      ]
    },
    {
      "cell_type": "markdown",
      "source": [
        "**code 1 - reflection on y axis**"
      ],
      "metadata": {
        "id": "StGHsIUwDbH3"
      }
    },
    {
      "cell_type": "code",
      "source": [
        "#import Polygen2D\n",
        "import numpy as np\n",
        "import matplotlib.pyplot as plt\n",
        "coord=[[1,1],[1,2],[1.5,2.5],[2,2],[2,1],[1,1]]\n",
        "xs,ys=zip(*coord)#create lists of x and y values\n",
        "print(xs)\n",
        "print(ys)\n",
        "plot1=plt.figure(1)\n",
        "plt.plot(xs,ys)\n",
        "\n",
        "#for a genral rotation at an angle theta \n",
        "# theta=np.pi/2\n",
        "# A=np.array([[np.cos(theta), -np.sin(theta)],[np.sin(theta), np.cos(theta)]]\n",
        "\n",
        "A=np.array([[-1,0],[0,1]])\n",
        "B=np.array([[1,1],[1,2],[1.5,2.5],[2,2],[2,1],[1,1]])\n",
        "print(B)\n",
        "B1=B.transpose((1,0))\n",
        "print(B1)\n",
        "C=np.matmul(A,B1)\n",
        "print(C)\n",
        "xs1,ys1=(C)\n",
        "plt.plot(xs1,ys1)\n",
        "plt.legend([\"Reflection in y-axis\"], loc=\"upper right\")\n"
      ],
      "metadata": {
        "colab": {
          "base_uri": "https://localhost:8080/",
          "height": 491
        },
        "id": "FSaUU1_mCJyi",
        "outputId": "73e51957-7a89-475f-9c2e-b3353f277234"
      },
      "execution_count": 6,
      "outputs": [
        {
          "output_type": "stream",
          "name": "stdout",
          "text": [
            "(1, 1, 1.5, 2, 2, 1)\n",
            "(1, 2, 2.5, 2, 1, 1)\n",
            "[[1.  1. ]\n",
            " [1.  2. ]\n",
            " [1.5 2.5]\n",
            " [2.  2. ]\n",
            " [2.  1. ]\n",
            " [1.  1. ]]\n",
            "[[1.  1.  1.5 2.  2.  1. ]\n",
            " [1.  2.  2.5 2.  1.  1. ]]\n",
            "[[-1.  -1.  -1.5 -2.  -2.  -1. ]\n",
            " [ 1.   2.   2.5  2.   1.   1. ]]\n"
          ]
        },
        {
          "output_type": "execute_result",
          "data": {
            "text/plain": [
              "<matplotlib.legend.Legend at 0x7f9f239d9450>"
            ]
          },
          "metadata": {},
          "execution_count": 6
        },
        {
          "output_type": "display_data",
          "data": {
            "text/plain": [
              "<Figure size 432x288 with 1 Axes>"
            ],
            "image/png": "[encoded data removed]"
          },
          "metadata": {
            "needs_background": "light"
          }
        }
      ]
    },
    {
      "cell_type": "markdown",
      "source": [
        "**code 2 - reflection on x axis**"
      ],
      "metadata": {
        "id": "Bfvo0DvAGWMc"
      }
    },
    {
      "cell_type": "code",
      "source": [
        "#import Polygen2D\n",
        "import numpy as np\n",
        "import matplotlib.pyplot as plt\n",
        "coord=[[1,1],[1,2],[1.5,2.5],[2,2],[2,1],[1,1]]\n",
        "xs,ys=zip(*coord)#create lists of x and y values\n",
        "print(xs)\n",
        "print(ys)\n",
        "plot1=plt.figure(1)\n",
        "plt.plot(xs,ys)\n",
        "A=np.array([[1,0],[0,-1]])\n",
        "B=np.array([[1,1],[1,2],[1.5,2.5],[2,2],[2,1],[1,1]])\n",
        "print(B)\n",
        "B1=B.transpose((1,0))\n",
        "print(B1)\n",
        "C=np.matmul(A,B1)\n",
        "print(C)\n",
        "xs1,ys1=(C)\n",
        "plt.plot(xs1,ys1)\n",
        "plt.legend([\"Reflection in x-axis\"], loc=\"upper right\")\n"
      ],
      "metadata": {
        "colab": {
          "base_uri": "https://localhost:8080/",
          "height": 491
        },
        "id": "rzqbfGlzErQc",
        "outputId": "8ddb6046-6b33-415e-846e-fb4a34326ce7"
      },
      "execution_count": 7,
      "outputs": [
        {
          "output_type": "stream",
          "name": "stdout",
          "text": [
            "(1, 1, 1.5, 2, 2, 1)\n",
            "(1, 2, 2.5, 2, 1, 1)\n",
            "[[1.  1. ]\n",
            " [1.  2. ]\n",
            " [1.5 2.5]\n",
            " [2.  2. ]\n",
            " [2.  1. ]\n",
            " [1.  1. ]]\n",
            "[[1.  1.  1.5 2.  2.  1. ]\n",
            " [1.  2.  2.5 2.  1.  1. ]]\n",
            "[[ 1.   1.   1.5  2.   2.   1. ]\n",
            " [-1.  -2.  -2.5 -2.  -1.  -1. ]]\n"
          ]
        },
        {
          "output_type": "execute_result",
          "data": {
            "text/plain": [
              "<matplotlib.legend.Legend at 0x7f9f239ed610>"
            ]
          },
          "metadata": {},
          "execution_count": 7
        },
        {
          "output_type": "display_data",
          "data": {
            "text/plain": [
              "<Figure size 432x288 with 1 Axes>"
            ],
            "image/png": "[encoded data removed]"
          },
          "metadata": {
            "needs_background": "light"
          }
        }
      ]
    },
    {
      "cell_type": "markdown",
      "source": [
        "**code 3 - reflection on y=x axis**"
      ],
      "metadata": {
        "id": "wqvOM4PyGwRE"
      }
    },
    {
      "cell_type": "code",
      "source": [
        "#import Polygen2D\n",
        "import numpy as np\n",
        "import matplotlib.pyplot as plt\n",
        "coord=[[1,1],[1,2],[1.5,2.5],[2,2],[2,1],[1,1]]\n",
        "xs,ys=zip(*coord)#create lists of x and y values\n",
        "print(xs)\n",
        "print(ys)\n",
        "plot1=plt.figure(1)\n",
        "plt.plot(xs,ys)\n",
        "A=np.array([[0,1],[1,0]])\n",
        "B=np.array([[1,1],[1,2],[1.5,2.5],[2,2],[2,1],[1,1]])\n",
        "print(B)\n",
        "B1=B.transpose((1,0))\n",
        "print(B1)\n",
        "C=np.matmul(A,B1)\n",
        "print(C)\n",
        "xs1,ys1=(C)\n",
        "plt.plot(xs1,ys1)\n",
        "plt.legend([\"Reflection in x-axis\"], loc=\"upper right\")"
      ],
      "metadata": {
        "colab": {
          "base_uri": "https://localhost:8080/",
          "height": 491
        },
        "id": "GDxleTKbGtFB",
        "outputId": "3160bab2-bf7c-4f63-e268-d49527d58d08"
      },
      "execution_count": 8,
      "outputs": [
        {
          "output_type": "stream",
          "name": "stdout",
          "text": [
            "(1, 1, 1.5, 2, 2, 1)\n",
            "(1, 2, 2.5, 2, 1, 1)\n",
            "[[1.  1. ]\n",
            " [1.  2. ]\n",
            " [1.5 2.5]\n",
            " [2.  2. ]\n",
            " [2.  1. ]\n",
            " [1.  1. ]]\n",
            "[[1.  1.  1.5 2.  2.  1. ]\n",
            " [1.  2.  2.5 2.  1.  1. ]]\n",
            "[[1.  2.  2.5 2.  1.  1. ]\n",
            " [1.  1.  1.5 2.  2.  1. ]]\n"
          ]
        },
        {
          "output_type": "execute_result",
          "data": {
            "text/plain": [
              "<matplotlib.legend.Legend at 0x7f9f238d6690>"
            ]
          },
          "metadata": {},
          "execution_count": 8
        },
        {
          "output_type": "display_data",
          "data": {
            "text/plain": [
              "<Figure size 432x288 with 1 Axes>"
            ],
            "image/png": "[encoded data removed]"
          },
          "metadata": {
            "needs_background": "light"
          }
        }
      ]
    },
    {
      "cell_type": "markdown",
      "source": [
        "**code 3 - reflection on horizontal expansion a=[k,0][0,1] k>1 axis**"
      ],
      "metadata": {
        "id": "TRTxNoEdHAHr"
      }
    },
    {
      "cell_type": "code",
      "source": [
        "#import Polygen2D\n",
        "import numpy as np\n",
        "import matplotlib.pyplot as plt\n",
        "coord=[[1,1],[1,2],[1.5,2.5],[2,2],[2,1],[1,1]]\n",
        "xs,ys=zip(*coord)#create lists of x and y values\n",
        "print(xs)\n",
        "print(ys)\n",
        "plot1=plt.figure(1)\n",
        "plt.plot(xs,ys)\n",
        "A=np.array([[2,0],[0,1]])\n",
        "B=np.array([[1,1],[1,2],[1.5,2.5],[2,2],[2,1],[1,1]])\n",
        "print(B)\n",
        "B1=B.transpose((1,0))\n",
        "print(B1)\n",
        "C=np.matmul(A,B1)\n",
        "print(C)\n",
        "xs1,ys1=(C)\n",
        "plt.plot(xs1,ys1)\n",
        "plt.legend([\"Reflection in x-axis\"], loc=\"upper right\")"
      ],
      "metadata": {
        "colab": {
          "base_uri": "https://localhost:8080/",
          "height": 491
        },
        "id": "fkgA3PMDG8b8",
        "outputId": "85d1308b-b60a-438c-e946-86d1d42124e6"
      },
      "execution_count": 9,
      "outputs": [
        {
          "output_type": "stream",
          "name": "stdout",
          "text": [
            "(1, 1, 1.5, 2, 2, 1)\n",
            "(1, 2, 2.5, 2, 1, 1)\n",
            "[[1.  1. ]\n",
            " [1.  2. ]\n",
            " [1.5 2.5]\n",
            " [2.  2. ]\n",
            " [2.  1. ]\n",
            " [1.  1. ]]\n",
            "[[1.  1.  1.5 2.  2.  1. ]\n",
            " [1.  2.  2.5 2.  1.  1. ]]\n",
            "[[2.  2.  3.  4.  4.  2. ]\n",
            " [1.  2.  2.5 2.  1.  1. ]]\n"
          ]
        },
        {
          "output_type": "execute_result",
          "data": {
            "text/plain": [
              "<matplotlib.legend.Legend at 0x7f9f23881750>"
            ]
          },
          "metadata": {},
          "execution_count": 9
        },
        {
          "output_type": "display_data",
          "data": {
            "text/plain": [
              "<Figure size 432x288 with 1 Axes>"
            ],
            "image/png": "[encoded data removed]"
          },
          "metadata": {
            "needs_background": "light"
          }
        }
      ]
    },
    {
      "cell_type": "markdown",
      "source": [
        "**code 4 - reflection on horizontal contraction a=[k,0][0,1] k<1 axis**"
      ],
      "metadata": {
        "id": "QXp2ckdmH7ki"
      }
    },
    {
      "cell_type": "code",
      "source": [
        "#import Polygen2D\n",
        "import numpy as np\n",
        "import matplotlib.pyplot as plt\n",
        "coord=[[1,1],[1,2],[1.5,2.5],[2,2],[2,1],[1,1]]\n",
        "xs,ys=zip(*coord)#create lists of x and y values\n",
        "print(xs)\n",
        "print(ys)\n",
        "plot1=plt.figure(1)\n",
        "plt.plot(xs,ys)\n",
        "A=np.array([[0.5,0],[0,1]])\n",
        "B=np.array([[1,1],[1,2],[1.5,2.5],[2,2],[2,1],[1,1]])\n",
        "print(B)\n",
        "B1=B.transpose((1,0))\n",
        "print(B1)\n",
        "C=np.matmul(A,B1)\n",
        "print(C)\n",
        "xs1,ys1=(C)\n",
        "plt.plot(xs1,ys1)\n",
        "plt.legend([\"Reflection in x-axis\"], loc=\"upper right\")"
      ],
      "metadata": {
        "colab": {
          "base_uri": "https://localhost:8080/",
          "height": 491
        },
        "id": "_qUYhIGlHVHM",
        "outputId": "963315a2-c350-42a1-a7a0-2e23dd4dddcc"
      },
      "execution_count": 10,
      "outputs": [
        {
          "output_type": "stream",
          "name": "stdout",
          "text": [
            "(1, 1, 1.5, 2, 2, 1)\n",
            "(1, 2, 2.5, 2, 1, 1)\n",
            "[[1.  1. ]\n",
            " [1.  2. ]\n",
            " [1.5 2.5]\n",
            " [2.  2. ]\n",
            " [2.  1. ]\n",
            " [1.  1. ]]\n",
            "[[1.  1.  1.5 2.  2.  1. ]\n",
            " [1.  2.  2.5 2.  1.  1. ]]\n",
            "[[0.5  0.5  0.75 1.   1.   0.5 ]\n",
            " [1.   2.   2.5  2.   1.   1.  ]]\n"
          ]
        },
        {
          "output_type": "execute_result",
          "data": {
            "text/plain": [
              "<matplotlib.legend.Legend at 0x7f9f239d0b90>"
            ]
          },
          "metadata": {},
          "execution_count": 10
        },
        {
          "output_type": "display_data",
          "data": {
            "text/plain": [
              "<Figure size 432x288 with 1 Axes>"
            ],
            "image/png": "[encoded data removed]"
          },
          "metadata": {
            "needs_background": "light"
          }
        }
      ]
    },
    {
      "cell_type": "markdown",
      "source": [
        "**code 5 - reflection on vertical expansion a=[1,0][0,k] k>1 axis**"
      ],
      "metadata": {
        "id": "hmnjQSZlIWYc"
      }
    },
    {
      "cell_type": "code",
      "source": [
        "#import Polygen2D\n",
        "import numpy as np\n",
        "import matplotlib.pyplot as plt\n",
        "coord=[[1,1],[1,2],[1.5,2.5],[2,2],[2,1],[1,1]]\n",
        "xs,ys=zip(*coord)#create lists of x and y values\n",
        "print(xs)\n",
        "print(ys)\n",
        "plot1=plt.figure(1)\n",
        "plt.plot(xs,ys)\n",
        "A=np.array([[1,0],[0,2]])\n",
        "B=np.array([[1,1],[1,2],[1.5,2.5],[2,2],[2,1],[1,1]])\n",
        "print(B)\n",
        "B1=B.transpose((1,0))\n",
        "print(B1)\n",
        "C=np.matmul(A,B1)\n",
        "print(C)\n",
        "xs1,ys1=(C)\n",
        "plt.plot(xs1,ys1)\n",
        "plt.legend([\"Reflection in x-axis\"], loc=\"upper right\")"
      ],
      "metadata": {
        "colab": {
          "base_uri": "https://localhost:8080/",
          "height": 491
        },
        "id": "QGGurzZiIGZg",
        "outputId": "ad6af22e-c944-41bd-b61b-68bb735163b6"
      },
      "execution_count": 11,
      "outputs": [
        {
          "output_type": "stream",
          "name": "stdout",
          "text": [
            "(1, 1, 1.5, 2, 2, 1)\n",
            "(1, 2, 2.5, 2, 1, 1)\n",
            "[[1.  1. ]\n",
            " [1.  2. ]\n",
            " [1.5 2.5]\n",
            " [2.  2. ]\n",
            " [2.  1. ]\n",
            " [1.  1. ]]\n",
            "[[1.  1.  1.5 2.  2.  1. ]\n",
            " [1.  2.  2.5 2.  1.  1. ]]\n",
            "[[1.  1.  1.5 2.  2.  1. ]\n",
            " [2.  4.  5.  4.  2.  2. ]]\n"
          ]
        },
        {
          "output_type": "execute_result",
          "data": {
            "text/plain": [
              "<matplotlib.legend.Legend at 0x7f9f23772610>"
            ]
          },
          "metadata": {},
          "execution_count": 11
        },
        {
          "output_type": "display_data",
          "data": {
            "text/plain": [
              "<Figure size 432x288 with 1 Axes>"
            ],
            "image/png": "[encoded data removed]"
          },
          "metadata": {
            "needs_background": "light"
          }
        }
      ]
    },
    {
      "cell_type": "markdown",
      "source": [
        "**code 6 - reflection on vertical contraction a=[1,0][0,k] k<1 axis**"
      ],
      "metadata": {
        "id": "HSs0yc_2Il5j"
      }
    },
    {
      "cell_type": "code",
      "source": [
        "#import Polygen2D\n",
        "import numpy as np\n",
        "import matplotlib.pyplot as plt\n",
        "coord=[[1,1],[1,2],[1.5,2.5],[2,2],[2,1],[1,1]]\n",
        "xs,ys=zip(*coord)#create lists of x and y values\n",
        "print(xs)\n",
        "print(ys)\n",
        "plot1=plt.figure(1)\n",
        "plt.plot(xs,ys)\n",
        "A=np.array([[1,0],[0,0.5]])\n",
        "B=np.array([[1,1],[1,2],[1.5,2.5],[2,2],[2,1],[1,1]])\n",
        "print(B)\n",
        "B1=B.transpose((1,0))\n",
        "print(B1)\n",
        "C=np.matmul(A,B1)\n",
        "print(C)\n",
        "xs1,ys1=(C)\n",
        "plt.plot(xs1,ys1)\n",
        "plt.legend([\"Reflection in x-axis\"], loc=\"upper right\")"
      ],
      "metadata": {
        "colab": {
          "base_uri": "https://localhost:8080/",
          "height": 491
        },
        "id": "yauQtqlIIiwh",
        "outputId": "27cf022b-5caf-4bb6-8e38-3ffa3b88fc73"
      },
      "execution_count": 12,
      "outputs": [
        {
          "output_type": "stream",
          "name": "stdout",
          "text": [
            "(1, 1, 1.5, 2, 2, 1)\n",
            "(1, 2, 2.5, 2, 1, 1)\n",
            "[[1.  1. ]\n",
            " [1.  2. ]\n",
            " [1.5 2.5]\n",
            " [2.  2. ]\n",
            " [2.  1. ]\n",
            " [1.  1. ]]\n",
            "[[1.  1.  1.5 2.  2.  1. ]\n",
            " [1.  2.  2.5 2.  1.  1. ]]\n",
            "[[1.   1.   1.5  2.   2.   1.  ]\n",
            " [0.5  1.   1.25 1.   0.5  0.5 ]]\n"
          ]
        },
        {
          "output_type": "execute_result",
          "data": {
            "text/plain": [
              "<matplotlib.legend.Legend at 0x7f9f236fb890>"
            ]
          },
          "metadata": {},
          "execution_count": 12
        },
        {
          "output_type": "display_data",
          "data": {
            "text/plain": [
              "<Figure size 432x288 with 1 Axes>"
            ],
            "image/png": "[encoded data removed]"
          },
          "metadata": {
            "needs_background": "light"
          }
        }
      ]
    },
    {
      "cell_type": "markdown",
      "source": [
        "**code 7 - reflection on horizontal sheer a=[1,k][0,1] k=2 axis**"
      ],
      "metadata": {
        "id": "m68pIH2JI0M6"
      }
    },
    {
      "cell_type": "code",
      "source": [
        "#import Polygen2D\n",
        "import numpy as np\n",
        "import matplotlib.pyplot as plt\n",
        "coord=[[1,1],[1,2],[1.5,2.5],[2,2],[2,1],[1,1]]\n",
        "xs,ys=zip(*coord)#create lists of x and y values\n",
        "print(xs)\n",
        "print(ys)\n",
        "plot1=plt.figure(1)\n",
        "plt.plot(xs,ys)\n",
        "A=np.array([[1,2],[0,1]])\n",
        "B=np.array([[1,1],[1,2],[1.5,2.5],[2,2],[2,1],[1,1]])\n",
        "print(B)\n",
        "B1=B.transpose((1,0))\n",
        "print(B1)\n",
        "C=np.matmul(A,B1)\n",
        "print(C)\n",
        "xs1,ys1=(C)\n",
        "plt.plot(xs1,ys1)\n",
        "plt.legend([\"Reflection in x-axis\"], loc=\"upper right\")"
      ],
      "metadata": {
        "colab": {
          "base_uri": "https://localhost:8080/",
          "height": 491
        },
        "id": "_hmJ5LWQIwJC",
        "outputId": "1a477819-4995-4fab-a657-7e918d950393"
      },
      "execution_count": 13,
      "outputs": [
        {
          "output_type": "stream",
          "name": "stdout",
          "text": [
            "(1, 1, 1.5, 2, 2, 1)\n",
            "(1, 2, 2.5, 2, 1, 1)\n",
            "[[1.  1. ]\n",
            " [1.  2. ]\n",
            " [1.5 2.5]\n",
            " [2.  2. ]\n",
            " [2.  1. ]\n",
            " [1.  1. ]]\n",
            "[[1.  1.  1.5 2.  2.  1. ]\n",
            " [1.  2.  2.5 2.  1.  1. ]]\n",
            "[[3.  5.  6.5 6.  4.  3. ]\n",
            " [1.  2.  2.5 2.  1.  1. ]]\n"
          ]
        },
        {
          "output_type": "execute_result",
          "data": {
            "text/plain": [
              "<matplotlib.legend.Legend at 0x7f9f2361cd50>"
            ]
          },
          "metadata": {},
          "execution_count": 13
        },
        {
          "output_type": "display_data",
          "data": {
            "text/plain": [
              "<Figure size 432x288 with 1 Axes>"
            ],
            "image/png": "[encoded data removed]"
          },
          "metadata": {
            "needs_background": "light"
          }
        }
      ]
    },
    {
      "cell_type": "markdown",
      "source": [
        "**code 8 - reflection on vertical sheer a=[1,0][k,1] k=2 axis**"
      ],
      "metadata": {
        "id": "-GGXk8RfJHpD"
      }
    },
    {
      "cell_type": "code",
      "source": [
        "#import Polygen2D\n",
        "import numpy as np\n",
        "import matplotlib.pyplot as plt\n",
        "coord=[[1,1],[1,2],[1.5,2.5],[2,2],[2,1],[1,1]]\n",
        "xs,ys=zip(*coord)#create lists of x and y values\n",
        "print(xs)\n",
        "print(ys)\n",
        "plot1=plt.figure(1)\n",
        "plt.plot(xs,ys)\n",
        "A=np.array([[1,0],[2,1]])\n",
        "B=np.array([[1,1],[1,2],[1.5,2.5],[2,2],[2,1],[1,1]])\n",
        "print(B)\n",
        "B1=B.transpose((1,0))\n",
        "print(B1)\n",
        "C=np.matmul(A,B1)\n",
        "print(C)\n",
        "xs1,ys1=(C)\n",
        "plt.plot(xs1,ys1)\n",
        "plt.legend([\"Reflection in x-axis\"], loc=\"upper right\")"
      ],
      "metadata": {
        "colab": {
          "base_uri": "https://localhost:8080/",
          "height": 491
        },
        "id": "tWqEdjXPJFSV",
        "outputId": "9c5eb8a0-c157-459e-e659-e295cbe366eb"
      },
      "execution_count": 14,
      "outputs": [
        {
          "output_type": "stream",
          "name": "stdout",
          "text": [
            "(1, 1, 1.5, 2, 2, 1)\n",
            "(1, 2, 2.5, 2, 1, 1)\n",
            "[[1.  1. ]\n",
            " [1.  2. ]\n",
            " [1.5 2.5]\n",
            " [2.  2. ]\n",
            " [2.  1. ]\n",
            " [1.  1. ]]\n",
            "[[1.  1.  1.5 2.  2.  1. ]\n",
            " [1.  2.  2.5 2.  1.  1. ]]\n",
            "[[1.  1.  1.5 2.  2.  1. ]\n",
            " [3.  4.  5.5 6.  5.  3. ]]\n"
          ]
        },
        {
          "output_type": "execute_result",
          "data": {
            "text/plain": [
              "<matplotlib.legend.Legend at 0x7f9f235e79d0>"
            ]
          },
          "metadata": {},
          "execution_count": 14
        },
        {
          "output_type": "display_data",
          "data": {
            "text/plain": [
              "<Figure size 432x288 with 1 Axes>"
            ],
            "image/png": "[encoded data removed]"
          },
          "metadata": {
            "needs_background": "light"
          }
        }
      ]
    },
    {
      "cell_type": "markdown",
      "source": [
        "**code 9 - **"
      ],
      "metadata": {
        "id": "43ScUHyTJUtC"
      }
    },
    {
      "cell_type": "code",
      "source": [
        ""
      ],
      "metadata": {
        "id": "tNszUyYaJR21"
      },
      "execution_count": null,
      "outputs": []
    }
  ]
}